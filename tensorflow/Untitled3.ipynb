{
 "cells": [
  {
   "cell_type": "code",
   "execution_count": 1,
   "id": "9f837bc6-2122-443c-abf4-a1410164762c",
   "metadata": {},
   "outputs": [
    {
     "name": "stdout",
     "output_type": "stream",
     "text": [
      "0\n",
      "1\n",
      "2\n",
      "3\n",
      "4\n",
      "5\n",
      "6\n",
      "7\n",
      "8\n",
      "9\n"
     ]
    }
   ],
   "source": [
    "for i in range(10):\n",
    "    print(i)"
   ]
  },
  {
   "cell_type": "code",
   "execution_count": 2,
   "id": "8c287539-6109-451b-91aa-8369845da730",
   "metadata": {},
   "outputs": [],
   "source": [
    "users = {'Hans': 'active', 'Éléonore': 'inactive', '景太郎': 'active'}"
   ]
  },
  {
   "cell_type": "code",
   "execution_count": 8,
   "id": "ba24a20a-6ab7-443e-8c2f-307689863f04",
   "metadata": {},
   "outputs": [
    {
     "data": {
      "text/plain": [
       "{'Hans': 'active', 'Éléonore': 'inactive', '景太郎': 'active'}"
      ]
     },
     "execution_count": 8,
     "metadata": {},
     "output_type": "execute_result"
    }
   ],
   "source": [
    "import copy\n",
    "copy.deepcopy(users)"
   ]
  },
  {
   "cell_type": "code",
   "execution_count": 6,
   "id": "98228c5a-7197-4953-9c7b-0f42b1bc89c7",
   "metadata": {},
   "outputs": [
    {
     "data": {
      "text/plain": [
       "'no'"
      ]
     },
     "execution_count": 6,
     "metadata": {},
     "output_type": "execute_result"
    }
   ],
   "source": [
    "def http_error(status):\n",
    "    match status:\n",
    "        case 400:\n",
    "            return \"Bad request\"\n",
    "        case 404:\n",
    "            return \"Not Found\"\n",
    "        case _:\n",
    "            return \"no\"\n",
    "\n",
    "http_error(401)"
   ]
  },
  {
   "cell_type": "code",
   "execution_count": null,
   "id": "4df1f818-e43d-4d2c-a19f-b31aafb8be60",
   "metadata": {},
   "outputs": [],
   "source": []
  }
 ],
 "metadata": {
  "kernelspec": {
   "display_name": "Python 3 (ipykernel)",
   "language": "python",
   "name": "python3"
  },
  "language_info": {
   "codemirror_mode": {
    "name": "ipython",
    "version": 3
   },
   "file_extension": ".py",
   "mimetype": "text/x-python",
   "name": "python",
   "nbconvert_exporter": "python",
   "pygments_lexer": "ipython3",
   "version": "3.12.8"
  }
 },
 "nbformat": 4,
 "nbformat_minor": 5
}
