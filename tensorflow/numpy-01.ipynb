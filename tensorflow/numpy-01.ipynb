{
 "cells": [
  {
   "cell_type": "code",
   "execution_count": 56,
   "id": "3a136f0d-b381-406b-b306-c497563a0275",
   "metadata": {
    "scrolled": true
   },
   "outputs": [],
   "source": [
    "import numpy as np"
   ]
  },
  {
   "cell_type": "code",
   "execution_count": 59,
   "id": "3e3783bf-ed8b-4dde-97f0-f20bda6b4982",
   "metadata": {},
   "outputs": [
    {
     "data": {
      "text/plain": [
       "array([2., 3., 4., 5., 6., 7., 8., 9.], dtype=float32)"
      ]
     },
     "execution_count": 59,
     "metadata": {},
     "output_type": "execute_result"
    }
   ],
   "source": [
    "np.arange(2,10,dtype=np.float32)"
   ]
  },
  {
   "cell_type": "code",
   "execution_count": 60,
   "id": "03ccc3ae-b70e-4dc6-8265-39e68aad637e",
   "metadata": {},
   "outputs": [
    {
     "data": {
      "text/plain": [
       "array([ 1.       ,  1.8181819,  2.6363637,  3.4545455,  4.2727275,\n",
       "        5.090909 ,  5.909091 ,  6.7272725,  7.5454545,  8.363636 ,\n",
       "        9.181818 , 10.       ], dtype=float32)"
      ]
     },
     "execution_count": 60,
     "metadata": {},
     "output_type": "execute_result"
    }
   ],
   "source": [
    "np.linspace(1,10,12,dtype=np.float32)"
   ]
  },
  {
   "cell_type": "code",
   "execution_count": 67,
   "id": "39ac7be7-addc-41e7-9006-e434dacb22db",
   "metadata": {},
   "outputs": [
    {
     "data": {
      "text/plain": [
       "array([[1., 0., 0., 0., 0.],\n",
       "       [0., 1., 0., 0., 0.],\n",
       "       [0., 0., 1., 0., 0.],\n",
       "       [0., 0., 0., 1., 0.]])"
      ]
     },
     "execution_count": 67,
     "metadata": {},
     "output_type": "execute_result"
    }
   ],
   "source": [
    "np.eye(4,5,0)"
   ]
  },
  {
   "cell_type": "code",
   "execution_count": 77,
   "id": "5c70233d-7703-484c-b4ef-38973b110936",
   "metadata": {},
   "outputs": [
    {
     "data": {
      "text/plain": [
       "array([[ 1,  1,  1],\n",
       "       [ 4,  2,  1],\n",
       "       [ 9,  3,  1],\n",
       "       [16,  4,  1]])"
      ]
     },
     "execution_count": 77,
     "metadata": {},
     "output_type": "execute_result"
    }
   ],
   "source": [
    "np.vander([1,2,3,4],3)"
   ]
  },
  {
   "cell_type": "code",
   "execution_count": 75,
   "id": "b038496f-bbac-4e39-ab96-6182cf36ad3c",
   "metadata": {},
   "outputs": [
    {
     "data": {
      "text/plain": [
       "array([[1., 1., 1., 1.],\n",
       "       [1., 1., 1., 1.],\n",
       "       [1., 1., 1., 1.]])"
      ]
     },
     "execution_count": 75,
     "metadata": {},
     "output_type": "execute_result"
    }
   ],
   "source": [
    "np.ones((3,4))"
   ]
  },
  {
   "cell_type": "code",
   "execution_count": 76,
   "id": "9a5b6dd5-246c-4806-8e55-1ab7745b69e8",
   "metadata": {},
   "outputs": [
    {
     "data": {
      "text/plain": [
       "array([[0., 0., 0., 0.],\n",
       "       [0., 0., 0., 0.],\n",
       "       [0., 0., 0., 0.]])"
      ]
     },
     "execution_count": 76,
     "metadata": {},
     "output_type": "execute_result"
    }
   ],
   "source": [
    "np.zeros((3,4))"
   ]
  },
  {
   "cell_type": "code",
   "execution_count": 88,
   "id": "eefb61b9-1099-40b3-bfa3-279dd677afb9",
   "metadata": {},
   "outputs": [
    {
     "name": "stdout",
     "output_type": "stream",
     "text": [
      "Help on class Sunj in module __main__:\n",
      "\n",
      "class Sunj(builtins.object)\n",
      " |  Sunj(name)\n",
      " |\n",
      " |  这是注释信息\n",
      " |\n",
      " |  Methods defined here:\n",
      " |\n",
      " |  __init__(self, name)\n",
      " |      初始话\n",
      " |\n",
      " |  say(self)\n",
      " |      初始话\n",
      " |\n",
      " |  ----------------------------------------------------------------------\n",
      " |  Static methods defined here:\n",
      " |\n",
      " |  is_adult(age)\n",
      " |      staticmethod\n",
      " |\n",
      " |  ----------------------------------------------------------------------\n",
      " |  Data descriptors defined here:\n",
      " |\n",
      " |  __dict__\n",
      " |      dictionary for instance variables\n",
      " |\n",
      " |  __weakref__\n",
      " |      list of weak references to the object\n",
      "\n"
     ]
    }
   ],
   "source": [
    "class Sunj:\n",
    "    \"\"\"\n",
    "        这是注释信息\n",
    "    \"\"\"\n",
    "    def __init__(self,name):\n",
    "        \"\"\"\n",
    "            初始话\n",
    "        \"\"\"\n",
    "        self.name = name\n",
    "    def say(self):\n",
    "        \"\"\"\n",
    "            初始话\n",
    "        \"\"\"\n",
    "        print(\"====\")\n",
    "\n",
    "    @staticmethod\n",
    "    def is_adult(age):\n",
    "        \"\"\"\n",
    "            staticmethod\n",
    "        \"\"\"\n",
    "        return age >= 18\n",
    "        \n",
    "help(Sunj)"
   ]
  },
  {
   "cell_type": "code",
   "execution_count": 104,
   "id": "b79d905a-4378-478e-957a-c98bd75dffa0",
   "metadata": {},
   "outputs": [
    {
     "data": {
      "text/plain": [
       "['rand',\n",
       " 'randint',\n",
       " 'randn',\n",
       " 'random',\n",
       " 'random_integers',\n",
       " 'random_sample',\n",
       " 'ranf']"
      ]
     },
     "execution_count": 104,
     "metadata": {},
     "output_type": "execute_result"
    }
   ],
   "source": [
    "import types\n",
    "[method for method in dir(np.random) if isinstance(getattr(np.random,method),types.BuiltinFunctionType) & method.startswith(\"ran\")]"
   ]
  },
  {
   "cell_type": "code",
   "execution_count": 98,
   "id": "5e536460-1ee2-488c-96fc-d0779f8e7264",
   "metadata": {},
   "outputs": [
    {
     "data": {
      "text/plain": [
       "builtin_function_or_method"
      ]
     },
     "execution_count": 98,
     "metadata": {},
     "output_type": "execute_result"
    }
   ],
   "source": [
    "type(np.random.random)"
   ]
  },
  {
   "cell_type": "code",
   "execution_count": 137,
   "id": "382b1541-9b41-467e-8b84-508cc3abe98c",
   "metadata": {},
   "outputs": [
    {
     "data": {
      "text/plain": [
       "array([0, 1, 2, 3, 4, 5, 6, 7, 8, 9])"
      ]
     },
     "execution_count": 137,
     "metadata": {},
     "output_type": "execute_result"
    }
   ],
   "source": [
    "import numpy as np\n",
    "\n",
    "x = np.arange(10)\n",
    "x"
   ]
  },
  {
   "cell_type": "code",
   "execution_count": 141,
   "id": "db86eed0-a816-4cb4-88f4-74a755eae1d7",
   "metadata": {},
   "outputs": [
    {
     "data": {
      "text/plain": [
       "array([], dtype=int64)"
      ]
     },
     "execution_count": 141,
     "metadata": {},
     "output_type": "execute_result"
    }
   ],
   "source": [
    "x[-3:3:1]"
   ]
  },
  {
   "cell_type": "code",
   "execution_count": 148,
   "id": "6fb404f6-0cf7-491e-9931-4640c47b6364",
   "metadata": {},
   "outputs": [
    {
     "name": "stdout",
     "output_type": "stream",
     "text": [
      "使用 slice 对象切片的结果形状: (2, 2, 2) [[[ 7  8]\n",
      "  [12 13]]\n",
      "\n",
      " [[27 28]\n",
      "  [32 33]]]\n"
     ]
    }
   ],
   "source": [
    "import numpy as np\n",
    "\n",
    "# 创建一个 3x4x5 的三维数组\n",
    "arr = np.arange(60).reshape(3, 4, 5)\n",
    "\n",
    "# 为每个维度创建 slice 对象\n",
    "slice1 = slice(0, 2)\n",
    "slice2 = slice(1, 3)\n",
    "slice3 = slice(2, 4)\n",
    "\n",
    "# 使用 slice 对象进行切片\n",
    "sliced_arr = arr[slice1, slice2, slice3]\n",
    "print(\"使用 slice 对象切片的结果形状:\", sliced_arr.shape,sliced_arr)"
   ]
  },
  {
   "cell_type": "code",
   "execution_count": 152,
   "id": "368fc2e3-0eec-463f-906c-934aab0c94b4",
   "metadata": {},
   "outputs": [
    {
     "data": {
      "text/plain": [
       "(3, 1, 4, 5)"
      ]
     },
     "execution_count": 152,
     "metadata": {},
     "output_type": "execute_result"
    }
   ],
   "source": [
    "arr[:,np.newaxis,:,:].shape"
   ]
  },
  {
   "cell_type": "code",
   "execution_count": 153,
   "id": "57a16795-f7cb-4c8a-9b32-11a933663805",
   "metadata": {},
   "outputs": [
    {
     "data": {
      "text/plain": [
       "array([0, 1, 2, 3, 4])"
      ]
     },
     "execution_count": 153,
     "metadata": {},
     "output_type": "execute_result"
    }
   ],
   "source": [
    "x = np.arange(5)\n",
    "x"
   ]
  },
  {
   "cell_type": "code",
   "execution_count": 168,
   "id": "fa3328bd-a7df-49d3-9f2e-e6f5023f6994",
   "metadata": {},
   "outputs": [
    {
     "data": {
      "text/plain": [
       "array([[0, 0, 0, 0, 0],\n",
       "       [1, 1, 1, 1, 1],\n",
       "       [2, 2, 2, 2, 2],\n",
       "       [3, 3, 3, 3, 3],\n",
       "       [4, 4, 4, 4, 4]])"
      ]
     },
     "execution_count": 168,
     "metadata": {},
     "output_type": "execute_result"
    }
   ],
   "source": [
    "x1 = x[:,np.newaxis]\n",
    "np.repeat(x1,5,axis=1)"
   ]
  },
  {
   "cell_type": "code",
   "execution_count": 157,
   "id": "d87d8c17-3adf-400d-9c7b-8d0725a6350a",
   "metadata": {},
   "outputs": [
    {
     "data": {
      "text/plain": [
       "array([[0, 1, 2, 3, 4]])"
      ]
     },
     "execution_count": 157,
     "metadata": {},
     "output_type": "execute_result"
    }
   ],
   "source": [
    "x[np.newaxis,:]"
   ]
  },
  {
   "cell_type": "code",
   "execution_count": 158,
   "id": "7d68c023-ceba-4d1e-a762-4c74c82915cc",
   "metadata": {},
   "outputs": [
    {
     "data": {
      "text/plain": [
       "array([[0, 1, 2, 3, 4],\n",
       "       [1, 2, 3, 4, 5],\n",
       "       [2, 3, 4, 5, 6],\n",
       "       [3, 4, 5, 6, 7],\n",
       "       [4, 5, 6, 7, 8]])"
      ]
     },
     "execution_count": 158,
     "metadata": {},
     "output_type": "execute_result"
    }
   ],
   "source": [
    "x[:,np.newaxis] + x[np.newaxis,:]"
   ]
  },
  {
   "cell_type": "code",
   "execution_count": 170,
   "id": "306dc1fc-46bd-40cf-abe0-3a294c851117",
   "metadata": {},
   "outputs": [
    {
     "name": "stdout",
     "output_type": "stream",
     "text": [
      "在第 0 维插入新维度后的形状: (1, 3) [[1 2 3]]\n",
      "在第 1 维插入新维度后的形状: (3, 1) [[1 2 3]]\n"
     ]
    }
   ],
   "source": [
    "import numpy as np\n",
    "\n",
    "# 创建一个一维数组\n",
    "arr = np.array([1, 2, 3])\n",
    "\n",
    "# 在第 0 维插入新维度\n",
    "arr_2d_row = np.expand_dims(arr, axis=0)\n",
    "print(\"在第 0 维插入新维度后的形状:\", arr_2d_row.shape,arr_2d_row)\n",
    "\n",
    "# 在第 1 维插入新维度\n",
    "arr_2d_col = np.expand_dims(arr, axis=1)\n",
    "print(\"在第 1 维插入新维度后的形状:\", arr_2d_col.shape,arr_2d_row)\n"
   ]
  },
  {
   "cell_type": "code",
   "execution_count": 171,
   "id": "925f6a5f-299c-49c2-a571-cc7bcc490208",
   "metadata": {},
   "outputs": [
    {
     "data": {
      "text/plain": [
       "array([ 0, 15, 30])"
      ]
     },
     "execution_count": 171,
     "metadata": {},
     "output_type": "execute_result"
    }
   ],
   "source": [
    "y = np.arange(35).reshape(5, 7)\n",
    "y\n",
    "y[np.array([0, 2, 4]), np.array([0, 1, 2])]"
   ]
  },
  {
   "cell_type": "code",
   "execution_count": 177,
   "id": "cb27dbb2-9091-4af2-9509-98bd44dac157",
   "metadata": {},
   "outputs": [
    {
     "data": {
      "text/plain": [
       "array([ 0, 16, 32])"
      ]
     },
     "execution_count": 177,
     "metadata": {},
     "output_type": "execute_result"
    }
   ],
   "source": [
    "y[np.array([0, 2, 4]),[0, 2, 4]]"
   ]
  },
  {
   "cell_type": "code",
   "execution_count": 182,
   "id": "9c513b57-3985-4769-acc5-578c6bd7b4ce",
   "metadata": {},
   "outputs": [
    {
     "data": {
      "text/plain": [
       "array([nan, nan, nan])"
      ]
     },
     "execution_count": 182,
     "metadata": {},
     "output_type": "execute_result"
    }
   ],
   "source": [
    "x = np.array([[1., 2.], [np.nan, 3.], [np.nan, np.nan]])\n",
    "x[~np.isnan(x)]"
   ]
  },
  {
   "cell_type": "code",
   "execution_count": 188,
   "id": "2e8f7cf0-2386-4529-b55a-2098f748a873",
   "metadata": {},
   "outputs": [
    {
     "data": {
      "text/plain": [
       "array([[0, 1],\n",
       "       [1, 1]])"
      ]
     },
     "execution_count": 188,
     "metadata": {},
     "output_type": "execute_result"
    }
   ],
   "source": [
    "x = np.array([[0, 1], [1, 1], [2, 2]])\n",
    "rowsum = x.sum(-1)\n",
    "rowsum<=2\n",
    "x[rowsum <=2 ,:]"
   ]
  },
  {
   "cell_type": "code",
   "execution_count": 198,
   "id": "4ba47f1e-ff4a-439e-854e-f7553550383d",
   "metadata": {},
   "outputs": [
    {
     "data": {
      "text/plain": [
       "((array([[1],\n",
       "         [3]]),\n",
       "  array([[0, 2]])),\n",
       " array([False,  True, False,  True]),\n",
       " (4, 3),\n",
       " array([[ 3,  5],\n",
       "        [ 9, 11]]))"
      ]
     },
     "execution_count": 198,
     "metadata": {},
     "output_type": "execute_result"
    }
   ],
   "source": [
    "x = np.array([[ 0,  1,  2],\n",
    "              [ 3,  4,  5],\n",
    "              [ 6,  7,  8],\n",
    "              [ 9, 10, 11]])\n",
    "rows = (x.sum(-1) % 2) == 0\n",
    "columns = [0, 2]\n",
    "np.ix_(rows, columns),rows,x.shape,x[np.ix_(rows, columns)]\n"
   ]
  },
  {
   "cell_type": "code",
   "execution_count": 199,
   "id": "69a7988f-af06-4ef3-9aad-383a6517233b",
   "metadata": {},
   "outputs": [
    {
     "data": {
      "text/plain": [
       "numpy.dtype"
      ]
     },
     "execution_count": 199,
     "metadata": {},
     "output_type": "execute_result"
    }
   ],
   "source": []
  },
  {
   "cell_type": "code",
   "execution_count": 200,
   "id": "34b9d526-ea41-45a3-8088-0ebfc39fe288",
   "metadata": {},
   "outputs": [
    {
     "data": {
      "text/plain": [
       "dtype('<U10')"
      ]
     },
     "execution_count": 200,
     "metadata": {},
     "output_type": "execute_result"
    }
   ],
   "source": [
    "np.array([\"hello\", \"world!!!!!\"]).dtype"
   ]
  },
  {
   "cell_type": "code",
   "execution_count": 204,
   "id": "9730d2a8-1ff4-48be-8044-03dac15f597d",
   "metadata": {},
   "outputs": [
    {
     "name": "stdout",
     "output_type": "stream",
     "text": [
      "1\n",
      "2\n",
      "3\n",
      "4\n",
      "5\n",
      "6\n"
     ]
    }
   ],
   "source": [
    "import numpy as np\n",
    "\n",
    "# 创建一维数组\n",
    "arr = np.array([[1,2,3],[4,5,6]])\n",
    "\n",
    "# 使用 flat 属性遍历数组\n",
    "for element in arr.flat:\n",
    "    print(element)"
   ]
  },
  {
   "cell_type": "code",
   "execution_count": 213,
   "id": "2a65685f-84c4-4adb-ac9b-f16bee8717ed",
   "metadata": {},
   "outputs": [
    {
     "data": {
      "text/plain": [
       "iinfo(min=-9223372036854775808, max=9223372036854775807, dtype=int64)"
      ]
     },
     "execution_count": 213,
     "metadata": {},
     "output_type": "execute_result"
    }
   ],
   "source": [
    "# np.iinfo(int) # Bounds of the default integer on this system.\n",
    "np.iinfo(np.int32) # Bounds of a 32-bit integer\n",
    "np.iinfo(np.int64) # Bounds of a 64-bit integer"
   ]
  },
  {
   "cell_type": "code",
   "execution_count": 217,
   "id": "988dd812-7f51-4efe-8dcd-d459f137ffd8",
   "metadata": {},
   "outputs": [
    {
     "data": {
      "text/plain": [
       "((4, 3),\n",
       " (3,),\n",
       " (4, 3),\n",
       " array([[ 1.,  2.,  3.],\n",
       "        [11., 12., 13.],\n",
       "        [21., 22., 23.],\n",
       "        [31., 32., 33.]]))"
      ]
     },
     "execution_count": 217,
     "metadata": {},
     "output_type": "execute_result"
    }
   ],
   "source": [
    "import numpy as np\n",
    "a = np.array([[ 0.0,  0.0,  0.0],\n",
    "              [10.0, 10.0, 10.0],\n",
    "              [20.0, 20.0, 20.0],\n",
    "              [30.0, 30.0, 30.0]])\n",
    "\n",
    "b = np.array([1.0, 2.0, 3.0])\n",
    "c = a + b\n",
    "a.shape,b.shape,c.shape,c\n",
    "# b = np.array([1.0, 2.0, 3.0, 4.0])\n",
    "# a + b\n"
   ]
  },
  {
   "cell_type": "code",
   "execution_count": 222,
   "id": "2d30dc74-3951-43a0-932b-798b5131ff1c",
   "metadata": {},
   "outputs": [
    {
     "data": {
      "text/plain": [
       "(array([[ 0.],\n",
       "        [10.],\n",
       "        [20.],\n",
       "        [30.]]),\n",
       " (4,),\n",
       " (3,))"
      ]
     },
     "execution_count": 222,
     "metadata": {},
     "output_type": "execute_result"
    }
   ],
   "source": [
    "import numpy as np\n",
    "a = np.array([0.0, 10.0, 20.0, 30.0])\n",
    "b = np.array([1.0, 2.0, 3.0])\n",
    "a[:, np.newaxis],a.shape,b.shape\n"
   ]
  },
  {
   "cell_type": "code",
   "execution_count": 223,
   "id": "c4d37374-2f49-4b2a-9ce2-d718bca53cf0",
   "metadata": {},
   "outputs": [
    {
     "data": {
      "text/plain": [
       "array([b'hello', b'world'], dtype='|S5')"
      ]
     },
     "execution_count": 223,
     "metadata": {},
     "output_type": "execute_result"
    }
   ],
   "source": [
    "np.array([b\"hello\", b\"world\"])"
   ]
  },
  {
   "cell_type": "code",
   "execution_count": 228,
   "id": "4b4b3e3e-d509-45f0-9295-d30746e1dd17",
   "metadata": {},
   "outputs": [
    {
     "name": "stdout",
     "output_type": "stream",
     "text": [
      "X ? b h i l q p B H I L Q P e f d g F D G S U V O M m\n",
      "? Y Y Y Y Y Y Y Y Y Y Y Y Y Y Y Y Y Y Y Y Y Y Y Y - Y\n",
      "b - Y Y Y Y Y Y - - - - - - Y Y Y Y Y Y Y Y Y Y Y - Y\n",
      "h - - Y Y Y Y Y - - - - - - - Y Y Y Y Y Y Y Y Y Y - Y\n",
      "i - - - Y Y Y Y - - - - - - - - Y Y - Y Y Y Y Y Y - Y\n",
      "l - - - - Y Y Y - - - - - - - - Y Y - Y Y Y Y Y Y - Y\n",
      "q - - - - Y Y Y - - - - - - - - Y Y - Y Y Y Y Y Y - Y\n",
      "p - - - - Y Y Y - - - - - - - - Y Y - Y Y Y Y Y Y - Y\n",
      "B - - Y Y Y Y Y Y Y Y Y Y Y Y Y Y Y Y Y Y Y Y Y Y - Y\n",
      "H - - - Y Y Y Y - Y Y Y Y Y - Y Y Y Y Y Y Y Y Y Y - Y\n",
      "I - - - - Y Y Y - - Y Y Y Y - - Y Y - Y Y Y Y Y Y - Y\n",
      "L - - - - - - - - - - Y Y Y - - Y Y - Y Y Y Y Y Y - -\n",
      "Q - - - - - - - - - - Y Y Y - - Y Y - Y Y Y Y Y Y - -\n",
      "P - - - - - - - - - - Y Y Y - - Y Y - Y Y Y Y Y Y - -\n",
      "e - - - - - - - - - - - - - Y Y Y Y Y Y Y Y Y Y Y - -\n",
      "f - - - - - - - - - - - - - - Y Y Y Y Y Y Y Y Y Y - -\n",
      "d - - - - - - - - - - - - - - - Y Y - Y Y Y Y Y Y - -\n",
      "g - - - - - - - - - - - - - - - Y Y - Y Y Y Y Y Y - -\n",
      "F - - - - - - - - - - - - - - - - - Y Y Y Y Y Y Y - -\n",
      "D - - - - - - - - - - - - - - - - - - Y Y Y Y Y Y - -\n",
      "G - - - - - - - - - - - - - - - - - - Y Y Y Y Y Y - -\n",
      "S - - - - - - - - - - - - - - - - - - - - Y Y Y Y - -\n",
      "U - - - - - - - - - - - - - - - - - - - - - Y Y Y - -\n",
      "V - - - - - - - - - - - - - - - - - - - - - - Y Y - -\n",
      "O - - - - - - - - - - - - - - - - - - - - - - - Y - -\n",
      "M - - - - - - - - - - - - - - - - - - - - - - Y Y Y -\n",
      "m - - - - - - - - - - - - - - - - - - - - - - Y Y - Y\n"
     ]
    },
    {
     "data": {
      "text/plain": [
       "('?bhilqpBHILQPefdgFDGSUVOMm', None)"
      ]
     },
     "execution_count": 228,
     "metadata": {},
     "output_type": "execute_result"
    }
   ],
   "source": [
    "mark = {False: ' -', True: ' Y'}\n",
    "def print_table(ntypes):\n",
    "    print('X ' + ' '.join(ntypes))\n",
    "    for row in ntypes:\n",
    "        print(row, end='')\n",
    "        for col in ntypes:\n",
    "            print(mark[np.can_cast(row, col)], end='')\n",
    "        print()\n",
    "np.typecodes['All'],print_table(np.typecodes['All'])"
   ]
  },
  {
   "cell_type": "code",
   "execution_count": 232,
   "id": "3c9e0022-217f-4b9d-b4d5-6ce51e4d4f83",
   "metadata": {},
   "outputs": [
    {
     "data": {
      "text/plain": [
       "(<memory at 0x10b7dee00>, b'\\x01\\x00\\x00\\x00\\x02\\x00\\x00\\x00\\x03\\x00\\x00\\x00')"
      ]
     },
     "execution_count": 232,
     "metadata": {},
     "output_type": "execute_result"
    }
   ],
   "source": [
    "import numpy as np\n",
    "\n",
    "arr = np.array([1, 2, 3], dtype=np.int32)\n",
    "buffer_obj = arr.data\n",
    "buffer_obj,arr.tobytes()"
   ]
  },
  {
   "cell_type": "code",
   "execution_count": 237,
   "id": "790e34e7-98f7-421a-b99a-c7da9764ea18",
   "metadata": {},
   "outputs": [
    {
     "name": "stdout",
     "output_type": "stream",
     "text": [
      "[1 0 0 0 2 0 0 0 3 0 0 0]\n"
     ]
    }
   ],
   "source": [
    "import numpy as np\n",
    "\n",
    "arr = np.array([1, 2, 3], dtype=np.int32)\n",
    "new_arr = arr.view(dtype=np.int8)\n",
    "print(new_arr)"
   ]
  },
  {
   "cell_type": "code",
   "execution_count": null,
   "id": "b5e79397-0799-4d04-bb47-9bcd05d0142a",
   "metadata": {},
   "outputs": [],
   "source": []
  }
 ],
 "metadata": {
  "kernelspec": {
   "display_name": "Python 3 (ipykernel)",
   "language": "python",
   "name": "python3"
  },
  "language_info": {
   "codemirror_mode": {
    "name": "ipython",
    "version": 3
   },
   "file_extension": ".py",
   "mimetype": "text/x-python",
   "name": "python",
   "nbconvert_exporter": "python",
   "pygments_lexer": "ipython3",
   "version": "3.12.8"
  }
 },
 "nbformat": 4,
 "nbformat_minor": 5
}
