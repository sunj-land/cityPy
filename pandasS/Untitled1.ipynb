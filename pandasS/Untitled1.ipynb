{
 "cells": [
  {
   "cell_type": "code",
   "execution_count": 4,
   "id": "f4120907-9531-49a2-a9ff-e166d9659d51",
   "metadata": {},
   "outputs": [
    {
     "data": {
      "text/plain": [
       "3"
      ]
     },
     "execution_count": 4,
     "metadata": {},
     "output_type": "execute_result"
    }
   ],
   "source": [
    "# 导入必要的库\n",
    "from tensorflow.keras import layers\n",
    "from tensorflow import keras\n",
    "from tensorflow.keras.datasets import mnist\n",
    "import tensorflow as tf\n",
    "import numpy as np\n",
    "import matplotlib.pyplot as plt\n",
    "# 设置随机种子\n",
    "tf.random.set_seed(42)     # TensorFlow随机种子\n",
    "np.random.seed(42)         # NumPy随机种子\n",
    "\n",
    "# 加载MNIST数据集,分为训练集和测试集\n",
    "(train_images, train_labels), (test_images, test_labels) = mnist.load_data()\n",
    "train_images.ndim"
   ]
  },
  {
   "cell_type": "code",
   "execution_count": 5,
   "id": "0d03cd33-9cb0-4b18-8c1f-3d0194faf71c",
   "metadata": {},
   "outputs": [
    {
     "name": "stdout",
     "output_type": "stream",
     "text": [
      "[[  0   0   0   0   0   0   0   0   0   0   0   0   0   0   0   0   0   0\n",
      "    0   0   0   0   0   0   0   0   0   0]\n",
      " [  0   0   0   0   0   0   0   0   0   0   0   0   0   0   0   0   0   0\n",
      "    0   0   0   0   0   0   0   0   0   0]\n",
      " [  0   0   0   0   0   0   0   0   0   0   0   0   0   0   0   0   0   0\n",
      "    0   0   0   0   0   0   0   0   0   0]\n",
      " [  0   0   0   0   0   0   0   0   0   0   0   0   0   0   0   0   0   0\n",
      "    0   0   0   0   0   0   0   0   0   0]\n",
      " [  0   0   0   0   0   0   0   0   0   0   0   0   0   0   0   0   0   0\n",
      "    0   0   0   0   0   0   0   0   0   0]\n",
      " [  0   0   0   0   0   0   0   0   0   0   0   0   0   0   0   0   0   0\n",
      "    0   0   0   0   0   0   0   0   0   0]\n",
      " [  0   0   0   0   0   0   0   0   0   0   0   0   0   0   0   0   0   0\n",
      "    0   0   0   0   0   0   0   0   0   0]\n",
      " [  0   0   0   0   0   0   0   0   0   0   0   0  55 148 210 253 253 113\n",
      "   87 148  55   0   0   0   0   0   0   0]\n",
      " [  0   0   0   0   0   0   0   0   0   0   0  87 232 252 253 189 210 252\n",
      "  252 253 168   0   0   0   0   0   0   0]\n",
      " [  0   0   0   0   0   0   0   0   0   4  57 242 252 190  65   5  12 182\n",
      "  252 253 116   0   0   0   0   0   0   0]\n",
      " [  0   0   0   0   0   0   0   0   0  96 252 252 183  14   0   0  92 252\n",
      "  252 225  21   0   0   0   0   0   0   0]\n",
      " [  0   0   0   0   0   0   0   0 132 253 252 146  14   0   0   0 215 252\n",
      "  252  79   0   0   0   0   0   0   0   0]\n",
      " [  0   0   0   0   0   0   0 126 253 247 176   9   0   0   8  78 245 253\n",
      "  129   0   0   0   0   0   0   0   0   0]\n",
      " [  0   0   0   0   0   0  16 232 252 176   0   0   0  36 201 252 252 169\n",
      "   11   0   0   0   0   0   0   0   0   0]\n",
      " [  0   0   0   0   0   0  22 252 252  30  22 119 197 241 253 252 251  77\n",
      "    0   0   0   0   0   0   0   0   0   0]\n",
      " [  0   0   0   0   0   0  16 231 252 253 252 252 252 226 227 252 231   0\n",
      "    0   0   0   0   0   0   0   0   0   0]\n",
      " [  0   0   0   0   0   0   0  55 235 253 217 138  42  24 192 252 143   0\n",
      "    0   0   0   0   0   0   0   0   0   0]\n",
      " [  0   0   0   0   0   0   0   0   0   0   0   0   0  62 255 253 109   0\n",
      "    0   0   0   0   0   0   0   0   0   0]\n",
      " [  0   0   0   0   0   0   0   0   0   0   0   0   0  71 253 252  21   0\n",
      "    0   0   0   0   0   0   0   0   0   0]\n",
      " [  0   0   0   0   0   0   0   0   0   0   0   0   0   0 253 252  21   0\n",
      "    0   0   0   0   0   0   0   0   0   0]\n",
      " [  0   0   0   0   0   0   0   0   0   0   0   0   0  71 253 252  21   0\n",
      "    0   0   0   0   0   0   0   0   0   0]\n",
      " [  0   0   0   0   0   0   0   0   0   0   0   0   0 106 253 252  21   0\n",
      "    0   0   0   0   0   0   0   0   0   0]\n",
      " [  0   0   0   0   0   0   0   0   0   0   0   0   0  45 255 253  21   0\n",
      "    0   0   0   0   0   0   0   0   0   0]\n",
      " [  0   0   0   0   0   0   0   0   0   0   0   0   0   0 218 252  56   0\n",
      "    0   0   0   0   0   0   0   0   0   0]\n",
      " [  0   0   0   0   0   0   0   0   0   0   0   0   0   0  96 252 189  42\n",
      "    0   0   0   0   0   0   0   0   0   0]\n",
      " [  0   0   0   0   0   0   0   0   0   0   0   0   0   0  14 184 252 170\n",
      "   11   0   0   0   0   0   0   0   0   0]\n",
      " [  0   0   0   0   0   0   0   0   0   0   0   0   0   0   0  14 147 252\n",
      "   42   0   0   0   0   0   0   0   0   0]\n",
      " [  0   0   0   0   0   0   0   0   0   0   0   0   0   0   0   0   0   0\n",
      "    0   0   0   0   0   0   0   0   0   0]] 9\n"
     ]
    },
    {
     "data": {
      "image/png": "[encoded data removed]",
      "text/plain": [
       "<Figure size 640x480 with 1 Axes>"
      ]
     },
     "metadata": {},
     "output_type": "display_data"
    }
   ],
   "source": [
    "digit = train_images[4]\n",
    "print(digit, train_labels[4])\n",
    "plt.imshow(digit, cmap=plt.cm.binary)\n",
    "plt.show()"
   ]
  },
  {
   "cell_type": "code",
   "execution_count": 14,
   "id": "7c531153-6713-46f3-9dad-6fe81ca26f47",
   "metadata": {},
   "outputs": [
    {
     "name": "stdout",
     "output_type": "stream",
     "text": [
      "Took : 0.031100 s\n"
     ]
    }
   ],
   "source": [
    "\n",
    "import time\n",
    "import numpy as np\n",
    "\n",
    "x = np.random.random((20,100))\n",
    "y = np.random.random((20,100))\n",
    "t0 = time.time()\n",
    "for _ in range(10000):\n",
    "    z = x + y\n",
    "    z = np.maximum(z,0.)\n",
    "print(\"Took : {0:2f} s\".format(time.time() - t0))"
   ]
  },
  {
   "cell_type": "code",
   "execution_count": 11,
   "id": "0546fec4-96af-4aeb-abcf-a79cd51068d5",
   "metadata": {},
   "outputs": [
    {
     "data": {
      "text/plain": [
       "array([[4.40160900e-03, 3.30159259e-04, 4.72263461e-01, ...,\n",
       "        3.90640655e-01, 4.71937929e-01, 8.52736746e-01],\n",
       "       [6.45468426e-01, 4.47723725e-02, 5.42169910e-01, ...,\n",
       "        5.62095579e-02, 6.31736177e-01, 7.64649612e-01],\n",
       "       [7.78514295e-01, 7.70111652e-01, 2.26282627e-01, ...,\n",
       "        9.08382547e-01, 5.02649335e-01, 6.56137044e-01],\n",
       "       ...,\n",
       "       [7.84837250e-01, 1.12113648e-01, 3.81070676e-01, ...,\n",
       "        6.10781356e-01, 3.18563098e-01, 7.72407722e-01],\n",
       "       [9.71477070e-01, 9.43427366e-01, 2.65982539e-01, ...,\n",
       "        8.72110409e-01, 5.16660496e-01, 3.85140736e-01],\n",
       "       [5.70065946e-02, 3.80783735e-01, 9.03206668e-01, ...,\n",
       "        7.25691849e-01, 6.92030695e-01, 8.21539861e-01]])"
      ]
     },
     "execution_count": 11,
     "metadata": {},
     "output_type": "execute_result"
    }
   ],
   "source": []
  },
  {
   "cell_type": "code",
   "execution_count": 15,
   "id": "5580b6b9-0f8e-4636-b881-06c0852dd7ba",
   "metadata": {},
   "outputs": [],
   "source": [
    "import numpy as np\n",
    "x = np.random.random((32,10))\n",
    "y = np.random.random((10,))"
   ]
  },
  {
   "cell_type": "code",
   "execution_count": 16,
   "id": "e42769da-8148-4488-a984-aeeea7def345",
   "metadata": {},
   "outputs": [
    {
     "data": {
      "text/plain": [
       "array([[2.66577249e-02, 7.96056797e-03, 2.24375469e-01, 7.99320948e-01,\n",
       "        9.04747658e-01, 3.91768366e-01, 5.63198597e-01, 7.06052602e-01,\n",
       "        9.52936699e-01, 9.12932237e-01],\n",
       "       [5.71923034e-02, 2.48165843e-01, 4.91445440e-02, 6.16542421e-01,\n",
       "        7.10493316e-01, 3.08283412e-01, 8.53851908e-01, 4.52812750e-01,\n",
       "        9.98381515e-01, 3.99692589e-04],\n",
       "       [1.09489708e-01, 3.01793243e-01, 2.55075980e-02, 7.82339458e-01,\n",
       "        5.27717879e-02, 7.48979633e-01, 5.25684588e-02, 2.52727265e-01,\n",
       "        8.41276816e-01, 9.51095294e-01],\n",
       "       [4.14526343e-01, 9.69938964e-01, 6.26880924e-01, 4.15835122e-01,\n",
       "        8.02801344e-01, 2.95328520e-01, 2.65796261e-01, 6.56547677e-01,\n",
       "        3.90487362e-01, 1.35918027e-01],\n",
       "       [6.69642353e-02, 7.87842576e-01, 6.75910732e-01, 4.11798225e-01,\n",
       "        8.96227635e-01, 4.10856752e-01, 7.10295471e-01, 9.09115275e-01,\n",
       "        8.40715459e-01, 5.11104776e-01],\n",
       "       [6.80636392e-01, 4.13665777e-01, 6.47197172e-01, 2.57552438e-01,\n",
       "        4.34742114e-01, 2.09545738e-01, 3.81849527e-02, 5.88539851e-01,\n",
       "        8.64429345e-01, 2.55782746e-02],\n",
       "       [1.96029741e-01, 4.60185059e-01, 6.65896817e-01, 1.71229194e-01,\n",
       "        5.66948290e-02, 5.19048718e-01, 8.18709713e-01, 3.52349093e-02,\n",
       "        3.49369450e-01, 6.63514743e-01],\n",
       "       [1.30742006e-01, 2.35946777e-01, 5.35492644e-01, 9.53231696e-01,\n",
       "        2.87342618e-01, 4.87527421e-01, 3.99930863e-01, 8.97396672e-01,\n",
       "        7.18898640e-02, 5.66147591e-01],\n",
       "       [8.46119699e-01, 9.88117577e-01, 6.98725498e-01, 3.79935476e-01,\n",
       "        4.11824353e-01, 3.51682220e-01, 6.03613100e-01, 7.39405771e-01,\n",
       "        8.19467564e-01, 4.16593110e-01],\n",
       "       [7.16708502e-01, 9.16222592e-01, 9.20824794e-01, 7.04029003e-01,\n",
       "        6.36902193e-01, 5.31526076e-01, 1.83197668e-01, 1.23629653e-01,\n",
       "        4.85711007e-01, 1.59444156e-01],\n",
       "       [5.76999926e-01, 6.45702730e-01, 5.25615598e-01, 3.64267125e-02,\n",
       "        5.77279588e-02, 1.13341185e-01, 1.53645805e-01, 9.89882614e-01,\n",
       "        3.44495017e-01, 2.91973374e-01],\n",
       "       [5.22666357e-02, 6.35320391e-01, 6.52190785e-01, 1.75448690e-01,\n",
       "        9.19241541e-01, 8.00493547e-01, 2.30319317e-01, 4.85849731e-01,\n",
       "        4.58390856e-01, 3.48520444e-01],\n",
       "       [8.17634713e-01, 1.09264486e-01, 4.15314240e-01, 4.28031131e-01,\n",
       "        4.68725605e-01, 8.61349991e-01, 2.18166870e-01, 1.02923174e-01,\n",
       "        6.17808463e-01, 1.73834475e-01],\n",
       "       [7.49320859e-02, 4.26649221e-01, 2.19646431e-01, 3.61216619e-01,\n",
       "        2.59711080e-01, 9.26364627e-02, 5.60347203e-01, 2.70184180e-02,\n",
       "        9.66375348e-01, 3.41330522e-01],\n",
       "       [6.95157510e-01, 8.10362873e-01, 2.79104796e-01, 7.48738709e-01,\n",
       "        8.32420855e-01, 2.41317234e-01, 9.92494677e-01, 2.06886828e-02,\n",
       "        2.17000480e-01, 7.80020756e-01],\n",
       "       [1.94131025e-01, 6.98259863e-01, 8.55530405e-01, 9.59214273e-01,\n",
       "        4.74247515e-01, 9.71109123e-01, 4.11622297e-01, 2.18128040e-01,\n",
       "        5.13921853e-01, 6.49823244e-01],\n",
       "       [4.57963316e-01, 5.66972444e-01, 4.16409188e-01, 5.24761954e-01,\n",
       "        9.52595672e-01, 4.99831153e-01, 2.53179633e-01, 7.58746622e-01,\n",
       "        3.37584458e-01, 8.16207171e-01],\n",
       "       [5.68419890e-02, 3.32177977e-01, 9.43599083e-02, 8.53178242e-02,\n",
       "        6.58389559e-01, 3.85334801e-01, 8.71478942e-01, 5.16405138e-01,\n",
       "        2.95343221e-01, 7.20888888e-01],\n",
       "       [6.24016792e-01, 7.99594621e-01, 6.43588276e-01, 1.67013417e-01,\n",
       "        6.70310038e-01, 3.91549198e-01, 4.63143030e-01, 9.21564576e-01,\n",
       "        3.59964046e-01, 6.11959143e-01],\n",
       "       [3.63481733e-01, 9.47274854e-02, 4.53525342e-01, 5.97061504e-01,\n",
       "        4.07503292e-01, 3.90666185e-01, 8.20378514e-01, 2.96851723e-02,\n",
       "        2.95585397e-01, 8.11757265e-01],\n",
       "       [9.20530149e-01, 4.12299586e-01, 8.88794243e-01, 1.98930122e-01,\n",
       "        2.21427068e-01, 8.46191377e-01, 9.03257741e-01, 2.22805768e-01,\n",
       "        5.93241900e-02, 9.03241371e-02],\n",
       "       [2.61380835e-01, 7.61449077e-01, 5.09991828e-01, 4.55588842e-01,\n",
       "        5.84139931e-01, 8.90223113e-01, 9.04303796e-02, 6.94724128e-01,\n",
       "        9.26790846e-01, 2.13350042e-01],\n",
       "       [8.37772316e-01, 6.98024711e-01, 1.44685361e-02, 2.31611680e-01,\n",
       "        6.05844761e-01, 5.02400339e-01, 5.27936253e-01, 2.31930425e-01,\n",
       "        6.75003471e-01, 2.66418371e-01],\n",
       "       [3.89434966e-01, 3.68915916e-01, 6.72025022e-01, 9.02527617e-02,\n",
       "        2.05541901e-01, 2.00497071e-01, 1.08424674e-01, 2.07594979e-01,\n",
       "        6.07060268e-01, 7.32168171e-01],\n",
       "       [6.60303447e-01, 4.75188138e-01, 5.24345711e-02, 9.59007011e-01,\n",
       "        1.68076461e-01, 6.68421370e-01, 9.12890615e-01, 6.97777096e-01,\n",
       "        2.18049640e-01, 3.15796299e-01],\n",
       "       [3.02058670e-02, 6.12758241e-01, 6.12992981e-01, 7.25500581e-01,\n",
       "        1.09962893e-02, 8.17841289e-01, 7.38710957e-01, 1.40886610e-01,\n",
       "        3.47626609e-01, 6.38524893e-01],\n",
       "       [4.95796875e-01, 1.15094264e-01, 8.73453751e-02, 7.81456299e-01,\n",
       "        1.55967118e-01, 1.72092674e-01, 8.30923125e-01, 6.12139635e-01,\n",
       "        6.04715608e-01, 4.79345771e-01],\n",
       "       [5.68995014e-01, 6.01769690e-01, 9.67826235e-01, 2.22973307e-01,\n",
       "        2.14562420e-01, 5.72184877e-02, 6.58198799e-01, 5.49042181e-01,\n",
       "        1.11239204e-01, 3.64538935e-01],\n",
       "       [1.78663205e-01, 3.31481740e-01, 9.51264169e-01, 6.83318839e-01,\n",
       "        7.56910080e-03, 2.52508074e-01, 1.03615471e-02, 7.14868499e-01,\n",
       "        4.69421802e-01, 9.94018692e-01],\n",
       "       [7.33583261e-01, 5.17912943e-01, 8.04705428e-01, 7.04803651e-01,\n",
       "        2.43776178e-01, 5.30258275e-01, 5.55998725e-01, 4.51231699e-01,\n",
       "        1.79192623e-01, 2.23369052e-01],\n",
       "       [2.81047401e-01, 1.02551494e-02, 9.16943892e-01, 6.86095992e-01,\n",
       "        6.89617316e-01, 5.72330614e-01, 6.89310808e-01, 9.81862550e-01,\n",
       "        3.85160338e-01, 7.12525587e-01],\n",
       "       [3.59529004e-01, 8.54288799e-01, 8.58028607e-01, 9.02266425e-01,\n",
       "        5.46332424e-03, 2.98191445e-01, 1.33924351e-01, 4.53986198e-01,\n",
       "        4.95449643e-01, 2.55904043e-01]])"
      ]
     },
     "execution_count": 16,
     "metadata": {},
     "output_type": "execute_result"
    }
   ],
   "source": [
    "x"
   ]
  },
  {
   "cell_type": "code",
   "execution_count": 17,
   "id": "ec3a1d04-836e-484a-bd62-563b6dcc610b",
   "metadata": {},
   "outputs": [
    {
     "data": {
      "text/plain": [
       "array([0.72344649, 0.26976972, 0.85389138, 0.17765937, 0.36723529,\n",
       "       0.62223776, 0.60533507, 0.07802911, 0.84625861, 0.59806493])"
      ]
     },
     "execution_count": 17,
     "metadata": {},
     "output_type": "execute_result"
    }
   ],
   "source": [
    "y"
   ]
  },
  {
   "cell_type": "code",
   "execution_count": 19,
   "id": "297c5ead-bcb2-417b-a91a-d98430cbe11d",
   "metadata": {},
   "outputs": [
    {
     "data": {
      "text/plain": [
       "array([[[0.72344649, 0.26976972, 0.85389138, 0.17765937, 0.36723529,\n",
       "         0.62223776, 0.60533507, 0.07802911, 0.84625861, 0.59806493]]])"
      ]
     },
     "execution_count": 19,
     "metadata": {},
     "output_type": "execute_result"
    }
   ],
   "source": [
    "y = np.expand_dims(y,axis = 0)\n",
    "y"
   ]
  },
  {
   "cell_type": "code",
   "execution_count": 24,
   "id": "e561f978-dd96-4ca7-8b84-7be637021c9f",
   "metadata": {},
   "outputs": [
    {
     "data": {
      "text/plain": [
       "array([[[0.72344649, 0.26976972, 0.85389138, ..., 0.07802911,\n",
       "         0.84625861, 0.59806493]],\n",
       "\n",
       "       [[0.72344649, 0.26976972, 0.85389138, ..., 0.07802911,\n",
       "         0.84625861, 0.59806493]],\n",
       "\n",
       "       [[0.72344649, 0.26976972, 0.85389138, ..., 0.07802911,\n",
       "         0.84625861, 0.59806493]],\n",
       "\n",
       "       ...,\n",
       "\n",
       "       [[0.72344649, 0.26976972, 0.85389138, ..., 0.07802911,\n",
       "         0.84625861, 0.59806493]],\n",
       "\n",
       "       [[0.72344649, 0.26976972, 0.85389138, ..., 0.07802911,\n",
       "         0.84625861, 0.59806493]],\n",
       "\n",
       "       [[0.72344649, 0.26976972, 0.85389138, ..., 0.07802911,\n",
       "         0.84625861, 0.59806493]]])"
      ]
     },
     "execution_count": 24,
     "metadata": {},
     "output_type": "execute_result"
    }
   ],
   "source": [
    "y = np.concatenate([y]*32,axis = 0)\n",
    "y"
   ]
  },
  {
   "cell_type": "code",
   "execution_count": 25,
   "id": "1718f164-a8c8-43bf-9258-448327a9fe33",
   "metadata": {},
   "outputs": [
    {
     "data": {
      "text/plain": [
       "array([0.86985955, 0.86763558, 0.54591869, 0.91078146, 0.8484078 ,\n",
       "       0.95812294, 0.8504984 , 0.82120385, 0.46936048, 0.21203106,\n",
       "       0.91070873, 0.72254919, 0.28174786, 0.34099572, 0.68607851,\n",
       "       0.47781731, 0.08148256, 0.14144795, 0.74564868, 0.32856953,\n",
       "       0.50764943, 0.76662148, 0.75117559, 0.16701503, 0.09839386,\n",
       "       0.59115229, 0.74163287, 0.14903992, 0.37195529, 0.870278  ,\n",
       "       0.94422314, 0.45406976])"
      ]
     },
     "execution_count": 25,
     "metadata": {},
     "output_type": "execute_result"
    }
   ],
   "source": [
    "np.random.random((32,))"
   ]
  },
  {
   "cell_type": "code",
   "execution_count": 28,
   "id": "794ab4d0-99bc-41d8-a54c-de5db46ed3e0",
   "metadata": {},
   "outputs": [
    {
     "data": {
      "text/plain": [
       "np.float64(7.475518035121629)"
      ]
     },
     "execution_count": 28,
     "metadata": {},
     "output_type": "execute_result"
    }
   ],
   "source": [
    "x = np.random.random((32,))\n",
    "y = np.random.random((32,))\n",
    "np.dot(x,y)"
   ]
  },
  {
   "cell_type": "code",
   "execution_count": null,
   "id": "b590ef7d-f5d1-4ce6-8938-9cd9573f2e05",
   "metadata": {},
   "outputs": [],
   "source": []
  }
 ],
 "metadata": {
  "kernelspec": {
   "display_name": "Python 3 (ipykernel)",
   "language": "python",
   "name": "python3"
  },
  "language_info": {
   "codemirror_mode": {
    "name": "ipython",
    "version": 3
   },
   "file_extension": ".py",
   "mimetype": "text/x-python",
   "name": "python",
   "nbconvert_exporter": "python",
   "pygments_lexer": "ipython3",
   "version": "3.12.8"
  }
 },
 "nbformat": 4,
 "nbformat_minor": 5
}
