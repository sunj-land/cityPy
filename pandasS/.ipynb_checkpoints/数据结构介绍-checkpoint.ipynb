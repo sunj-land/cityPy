{
 "cells": [
  {
   "cell_type": "code",
   "execution_count": 1,
   "id": "18da19d9-0310-4815-bc70-8e848f5fc60f",
   "metadata": {},
   "outputs": [],
   "source": [
    "import numpy as np\n",
    "import pandas as pd"
   ]
  },
  {
   "cell_type": "code",
   "execution_count": 14,
   "id": "9614ee33-0271-45a3-8a4e-77d9fa015267",
   "metadata": {},
   "outputs": [
    {
     "data": {
      "text/plain": [
       "array([ 0.91807617, -0.75453513,  0.27967871,  0.09469149,  1.84039902])"
      ]
     },
     "execution_count": 14,
     "metadata": {},
     "output_type": "execute_result"
    }
   ],
   "source": [
    "np.random.randn(5)"
   ]
  },
  {
   "cell_type": "code",
   "execution_count": 31,
   "id": "50f08150-5369-4001-94a1-71d807582c94",
   "metadata": {},
   "outputs": [
    {
     "data": {
      "text/plain": [
       "a    2\n",
       "b    4\n",
       "dtype: int64"
      ]
     },
     "execution_count": 31,
     "metadata": {},
     "output_type": "execute_result"
    }
   ],
   "source": [
    "s1 = pd.Series({\n",
    "    \"a\":1,\n",
    "    \"b\":2\n",
    "})\n",
    "s1\n",
    "s1+s1"
   ]
  },
  {
   "cell_type": "code",
   "execution_count": 32,
   "id": "140ca42f-d890-4636-a0b8-3c7f1aec9bbe",
   "metadata": {},
   "outputs": [
    {
     "ename": "NameError",
     "evalue": "name 'panda' is not defined",
     "output_type": "error",
     "traceback": [
      "\u001b[31m---------------------------------------------------------------------------\u001b[39m",
      "\u001b[31mNameError\u001b[39m                                 Traceback (most recent call last)",
      "\u001b[36mCell\u001b[39m\u001b[36m \u001b[39m\u001b[32mIn[32]\u001b[39m\u001b[32m, line 1\u001b[39m\n\u001b[32m----> \u001b[39m\u001b[32m1\u001b[39m df = \u001b[43mpanda\u001b[49m.DataFrame({\n\u001b[32m      2\u001b[39m     \u001b[33m\"\u001b[39m\u001b[33mone\u001b[39m\u001b[33m\"\u001b[39m:[\u001b[32m1\u001b[39m,\u001b[32m1\u001b[39m,\u001b[32m1\u001b[39m],\n\u001b[32m      3\u001b[39m     \u001b[33m\"\u001b[39m\u001b[33mtwo\u001b[39m\u001b[33m\"\u001b[39m:[\u001b[32m2\u001b[39m,\u001b[32m2\u001b[39m,\u001b[32m2\u001b[39m]\n\u001b[32m      4\u001b[39m })\n\u001b[32m      6\u001b[39m df\n",
      "\u001b[31mNameError\u001b[39m: name 'panda' is not defined"
     ]
    }
   ],
   "source": [
    "df = pd.DataFrame({\n",
    "    \"one\":[1,1,1],\n",
    "    \"two\":[2,2,2]\n",
    "})\n",
    "\n",
    "df"
   ]
  },
  {
   "cell_type": "code",
   "execution_count": null,
   "id": "119cfa12-7113-42f3-b528-294eb9150559",
   "metadata": {},
   "outputs": [],
   "source": []
  }
 ],
 "metadata": {
  "kernelspec": {
   "display_name": "Python 3 (ipykernel)",
   "language": "python",
   "name": "python3"
  },
  "language_info": {
   "codemirror_mode": {
    "name": "ipython",
    "version": 3
   },
   "file_extension": ".py",
   "mimetype": "text/x-python",
   "name": "python",
   "nbconvert_exporter": "python",
   "pygments_lexer": "ipython3",
   "version": "3.12.8"
  }
 },
 "nbformat": 4,
 "nbformat_minor": 5
}
